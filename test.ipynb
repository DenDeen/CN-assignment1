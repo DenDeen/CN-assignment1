{
 "cells": [
  {
   "cell_type": "code",
   "execution_count": 6,
   "metadata": {},
   "outputs": [
    {
     "name": "stdout",
     "output_type": "stream",
     "text": [
      "Socket successfully created\n",
      "b'HTTP/1.1 200 OK\\r\\nDate: Mon, 18 Apr 2022 18:18:10 GMT\\r\\nExpires: -1\\r\\nCache-Control: private, max-age=0\\r\\nContent-Type: text/html; charset=ISO-8859-1\\r\\nP3P: CP=\"This is not a P3P policy! See g.co/p3phelp for more info.\"\\r\\nServer: gws\\r\\nX-XSS-Protection: 0\\r\\nX-Frame-Options: SAMEORIGIN\\r\\nSet-Cookie: AEC=AakniGOTDG3jl4pqMrEyj8AD84L51VjTFAYk0xXUZ_8ij-MRf3GC_mwFWA; expires=Sat, 15-Oct-2022 18:18:10 GMT; path=/; domain=.google.com; Secure; HttpOnly; SameSite=lax\\r\\nSet-Cookie: NID=511=WS1xJta1WHlPB2_ApSSiw_neOB4SGzlMdvxcAmKdW8_HvfnURFM1P0A-6Uh891-dLk6ni52UuaHLAUS9EVcOFLKo8L9WqxEc5TcRes_ssiAZMk1vL4WJbuyb_wo_yUJzdXpEfcQl40CXH3WUpZJn6EKaY3t6OKbVSXqKrQdiEXU; expires=Tue, 18-Oct-2022 18:18:10 GMT; path=/; domain=.google.com; HttpOnly\\r\\nAccept-Ranges: none\\r\\nVary: Accept-Encoding\\r\\nTransfer-Encoding: chunked\\r\\n\\r\\n58b0\\r\\n<!doctype html><html itemscope=\"\" itemtype=\"http://schema.org/WebPage\" lang=\"nl-BE\"><head><meta content=\"text/html; charset=UTF-8\" http-equiv=\"Content-Type\"><meta content=\"/images/branding/googleg/1x/googleg_standard_color_128dp.png\" itemprop=\"image\"><title>Google</title><script nonce=\"IQUDrhbI3OBH316gS7XGZw==\">(function(){window.google={kEI:\\'YqtdYu6NHaSn9u8P4sSNqAE\\',kEXPI:\\'0,1302536,56873,6059,206,4804,2316,383,246,5,1353,4014,1238,1122515,1197751,380739,16109,28690,17572,4859,1361,12314,17585,4998,13228,3847,4192,6430,7432,15309,2372,3594,708,1279,2742,149,1103,840,1983,4314,108,4012,2023,1777,520,14670,3227,2845,7,17450,7539,4085,4696,17607,3,576,6608,13975,4,1528,2304,7039,25073,2658,7357,30,13628,4437,16786,5827,2530,4094,4052,3,3541,1,16807,25347,2,14022,1931,5589,6596,10463,1160,5679,3401,20952,7789,4569,6258,20800,2618,1246,5841,14967,4333,6090,1394,6845,17430,2370,1,8591,3214,3368,98,701,2449,5048,240,6943,6550,791,2622,28,3421,2,1,6056,1144,3110,3186,2422,598,2218,255,1100,24,778,102,1683,2537,1217,207,1129,102,203,2857,391,1185,1818,1280,4,90,3523,1725,1501,408,958,1347,1906,474,5441215,8798011,882,444,3,1877,1,2562,1,748,141,795,563,1,4265,1,1,2,1331,4142,2609,155,17,13,72,139,4,2,20,2,169,13,19,46,5,39,644,29,2,2,1,2,1,2,2,7,4,1,2,2,2,2,2,2,353,513,186,1,1,158,3,2,2,2,2,2,4,2,3,3,269,1601,141,1002,312,374,16,13,41,23951223,4038574,3,3112,3,450,1964,2935,159,1358,4726,3,7491,2648,758,829,916270\\',kBL:\\'BPfJ\\'};google.sn=\\'webhp\\';google.kHL=\\'nl-BE\\';})();(function(){\\nvar f=this||self;var h,k=[];function l(a){for(var b;a&&(!a.getAttribute||!(b=a.getAttribute(\"eid\")));)a=a.parentNode;return b||h}function m(a){for(var b=null;a&&(!a.getAttribute||!(b=a.getAttribute(\"leid\")));)a=a.parentNode;return b}\\nfunction n(a,b,c,d,g){var e=\"\";c||-1!==b.search(\"&ei=\")||(e=\"&ei=\"+l(d),-1===b.search(\"&lei=\")&&(d=m(d))&&(e+=\"&lei=\"+d));d=\"\";!c&&f._cshid&&-1===b.search(\"&cshid=\")&&\"slh\"!==a&&(d=\"&cshid=\"+f._cshid);c=c||\"/\"+(g||\"gen_204\")+\"?atyp=i&ct=\"+a+\"&cad=\"+b+e+\"&zx=\"+Date.now()+d;/^http:/i.test(c)&&\"https:\"===window.location.protocol&&(google.ml&&google.ml(Error(\"a\"),!1,{src:c,glmm:1}),c=\"\");return c};h=google.kEI;google.getEI=l;google.getLEI=m;google.ml=function(){return null};google.log=function(a,b,c,d,g){if(c=n(a,b,c,d,g)){a=new Image;var e=k.length;k[e]=a;a.onerror=a.onload=a.onabort=function(){delete k[e]};a.src=c}};google.logUrl=n;}).call(this);(function(){\\ngoogle.y={};google.sy=[];google.x=function(a,b){if(a)var c=a.id;else{do c=Math.random();while(google.y[c])}google.y[c]=[a,b];return!1};google.sx=function(a){google.sy.push(a)};google.lm=[];google.plm=function(a){google.lm.push.apply(google.lm,a)};google.lq=[];google.load=function(a,b,c){google.lq.push([[a],b,c])};google.loadAll=function(a,b){google.lq.push([a,b])};google.bx=!1;google.lx=function(){};}).call(this);google.f={};(function(){\\ndocument.documentElement.addEventListener(\"submit\",function(b){var a;if(a=b.target){var c=a.getAttribute(\"data-submitfalse\");a=\"1\"===c||\"q\"===c&&!a.elements.q.value?!0:!1}else a=!1;a&&(b.preventDefault(),b.stopPropagation())},!0);document.documentElement.addEventListener(\"click\",function(b){var a;a:{for(a=b.target;a&&a!==document.documentElement;a=a.parentElement)if(\"A\"===a.tagName){a=\"1\"===a.getAttribute(\"data-nohref\");break a}a=!1}a&&b.preventDefa'\n"
     ]
    }
   ],
   "source": [
    "# programming in Python\n",
    "import socket # for socket\n",
    "import sys\n",
    "\n",
    "target_protocol = str('GET')\n",
    "target_host = str('www.google.com')\n",
    "target_port = int(80)\n",
    "\n",
    "\n",
    "try:\n",
    "    s = socket.socket(socket.AF_INET, socket.SOCK_STREAM)\n",
    "    s.connect((target_host, target_port))\n",
    "    print (\"Socket successfully created\")\n",
    "except socket.error as err:\n",
    "    print (\"socket creation failed with error %s\" %(err))\n",
    "\n",
    "request =  target_protocol + \" / HTTP/1.1\\r\\nHost:%s\\r\\n\\r\\n\" % target_host\n",
    "s.send(request.encode())\n",
    "\n",
    "response = s.recv(4096)\n",
    "http_response = repr(response)\n",
    "\n",
    "print(http_response)"
   ]
  },
  {
   "cell_type": "code",
   "execution_count": 7,
   "metadata": {},
   "outputs": [
    {
     "data": {
      "text/plain": [
       "'google'"
      ]
     },
     "execution_count": 7,
     "metadata": {},
     "output_type": "execute_result"
    }
   ],
   "source": [
    "import re\n",
    "result = re.search('(?<=\\.).*(?=\\.)', \"www.google.com\").group(0)\n",
    "result"
   ]
  }
 ],
 "metadata": {
  "interpreter": {
   "hash": "04acb6ffdaafbba7e9d0e47eb932c23ec3df333f7534192c81a00cca799ec3f6"
  },
  "kernelspec": {
   "display_name": "Python 3.8.5 64-bit ('base': conda)",
   "language": "python",
   "name": "python3"
  },
  "language_info": {
   "codemirror_mode": {
    "name": "ipython",
    "version": 3
   },
   "file_extension": ".py",
   "mimetype": "text/x-python",
   "name": "python",
   "nbconvert_exporter": "python",
   "pygments_lexer": "ipython3",
   "version": "3.10.4"
  },
  "orig_nbformat": 4
 },
 "nbformat": 4,
 "nbformat_minor": 2
}
