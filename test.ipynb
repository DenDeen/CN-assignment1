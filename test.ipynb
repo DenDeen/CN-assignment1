{
 "cells": [
  {
   "cell_type": "code",
   "execution_count": 5,
   "metadata": {},
   "outputs": [
    {
     "name": "stdout",
     "output_type": "stream",
     "text": [
      "Socket successfully created\n",
      "b'HTTP/1.1 200 OK\\r\\nDate: Mon, 21 Mar 2022 13:42:57 GMT\\r\\nExpires: -1\\r\\nCache-Control: private, max-age=0\\r\\nContent-Type: text/html; charset=ISO-8859-1\\r\\nP3P: CP=\"This is not a P3P policy! See g.co/p3phelp for more info.\"\\r\\nServer: gws\\r\\nX-XSS-Protection: 0\\r\\nX-Frame-Options: SAMEORIGIN\\r\\nSet-Cookie: NID=511=MbwEPA-PWxRkld0CKJr3eF5ZusE8t2mcemUGAZUQwpRU5lMKuZHNR-WxJzI3kGdl6MUc2DhpiuxIRBquN8Q8_QAviglWBZotS1VhSA1GzRNvLzxHTSHCDFrXe5ZTMVNhU4YIiihC6OpW65UWh0XTQvgS03vlYxoXLe7msEVxVNc; expires=Tue, 20-Sep-2022 13:42:57 GMT; path=/; domain=.google.com; HttpOnly\\r\\nAccept-Ranges: none\\r\\nVary: Accept-Encoding\\r\\nTransfer-Encoding: chunked\\r\\n\\r\\n4c3d\\r\\n<!doctype html><html itemscope=\"\" itemtype=\"http://schema.org/WebPage\" lang=\"nl-BE\"><head><meta content=\"text/html; charset=UTF-8\" http-equiv=\"Content-Type\"><meta content=\"/images/branding/googleg/1x/googleg_standard_color_128dp.png\" itemprop=\"image\"><title>Google</title><script nonce=\"Ixm+oQzHhmDa+s17WrrjIg==\">(function(){window.google={kEI:\\'4YA4YqOKA9GFxc8Pwdq5-AY\\',kEXPI:\\'0,18168,184286,3,1100075,56877,1709,4349,207,4804,2316,383,246,5,1354,4013,1237,1122516,1197745,677,17,380052,16114,28684,17572,4859,1361,9290,3021,4754,12834,4998,13228,3847,4192,6430,22743,5079,1593,1279,2742,149,1943,1983,4314,109,3405,606,2023,1777,520,14670,603,2624,2845,7,4774,825,11851,11624,4698,1849,6397,9359,3,576,6460,148,12314,1661,4,1528,2304,6463,576,6345,4144,14584,2658,6536,821,30,11412,2216,4437,9358,7428,5830,2527,4094,4052,3,3541,1,16807,38,25309,2,14022,1931,5589,126,618,5852,10463,1160,5679,1021,2380,2718,18243,2,1,12,7765,4568,6259,6723,14077,2618,1252,5835,11861,339,2767,4333,5017,1073,1394,448,1,1,6395,564,3830,2295,1692,2545,4125,2303,877,153,1406,10,1,436,8155,113,804,4720,827,118,798,1,462,2,2579,858,2669,23,2103,2196,2852,936,255,753,554,325,3363,251,1840,2204,1082,117,2,1,12,1203,1450,2,1,2746,3080,112,1,137,204,920,246,1040,416,2,620,218,568,184,357,232,3414,85,1337,97,1760,904,802,10,597,23,29,2,70,4,676,900,45,231,601,2809,2,472,247,230,659,323,662,479,681,202,186,5459131,859,339,8796813,882,444,3,1877,1,2562,1,748,141,795,563,1,4265,1,1,2,1331,4142,2609,155,17,13,72,139,4,2,20,2,169,13,19,46,5,39,96,548,29,2,2,1,2,1,2,2,7,4,1,2,2,2,2,2,2,353,513,186,1,1,158,3,2,2,2,2,2,4,2,3,3,269,1601,141,1002,144,4,49,6,30,1,31,23951713,2772895,1268795,3,450,1964,1491,9,1435,159,1358,4726,3,923,1244,6,913,1576,1334,2442,1228,7,823\\',kBL:\\'_N6h\\'};google.sn=\\'webhp\\';google.kHL=\\'nl-BE\\';})();(function(){\\nvar f=this||self;var h,k=[];function l(a){for(var b;a&&(!a.getAttribute||!(b=a.getAttribute(\"eid\")));)a=a.parentNode;return b||h}function m(a){for(var b=null;a&&(!a.getAttribute||!(b=a.getAttribute(\"leid\")));)a=a.parentNode;return b}\\nfunction n(a,b,c,d,g){var e=\"\";c||-1!==b.search(\"&ei=\")||(e=\"&ei=\"+l(d),-1===b.search(\"&lei=\")&&(d=m(d))&&(e+=\"&lei=\"+d));d=\"\";!c&&f._cshid&&-1===b.search(\"&cshid=\")&&\"slh\"!==a&&(d='\n"
     ]
    }
   ],
   "source": [
    "# programming in Python\n",
    "import socket # for socket\n",
    "import sys\n",
    "\n",
    "target_protocol = str('GET')\n",
    "target_host = str('www.google.com')\n",
    "target_port = int(80)\n",
    "\n",
    "\n",
    "try:\n",
    "    s = socket.socket(socket.AF_INET, socket.SOCK_STREAM)\n",
    "    s.connect((target_host, target_port))\n",
    "    print (\"Socket successfully created\")\n",
    "except socket.error as err:\n",
    "    print (\"socket creation failed with error %s\" %(err))\n",
    "\n",
    "request =  target_protocol + \" / HTTP/1.1\\r\\nHost:%s\\r\\n\\r\\n\" % target_host\n",
    "s.send(request.encode())\n",
    "\n",
    "response = s.recv(4096)\n",
    "http_response = repr(response)\n",
    "\n",
    "print(http_response)"
   ]
  },
  {
   "cell_type": "code",
   "execution_count": null,
   "metadata": {},
   "outputs": [],
   "source": []
  }
 ],
 "metadata": {
  "interpreter": {
   "hash": "04acb6ffdaafbba7e9d0e47eb932c23ec3df333f7534192c81a00cca799ec3f6"
  },
  "kernelspec": {
   "display_name": "Python 3.8.5 64-bit ('base': conda)",
   "language": "python",
   "name": "python3"
  },
  "language_info": {
   "codemirror_mode": {
    "name": "ipython",
    "version": 3
   },
   "file_extension": ".py",
   "mimetype": "text/x-python",
   "name": "python",
   "nbconvert_exporter": "python",
   "pygments_lexer": "ipython3",
   "version": "3.8.5"
  },
  "orig_nbformat": 4
 },
 "nbformat": 4,
 "nbformat_minor": 2
}
